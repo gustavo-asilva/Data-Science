{
 "cells": [
  {
   "cell_type": "markdown",
   "metadata": {},
   "source": [
    "# Sumário\n",
    "* [Entendimento do Problema](#entendimento_problema)\n",
    "* [Entendimento dos Dados](#entendimento_dados)\n",
    "* [Preparação dos Dados](#preparação_dados)\n",
    "* [Modelagem](#modelagem)\n",
    "* [Avaliação](#avaliação)\n",
    "* [Conclusão](#conclusão)"
   ]
  },
  {
   "cell_type": "markdown",
   "metadata": {},
   "source": [
    "# Entendimento do Problema <a class=\"anchor\" id=\"entendimento_problema\"></a>"
   ]
  },
  {
   "cell_type": "markdown",
   "metadata": {},
   "source": [
    "O desafio do Titanic é no [Kaggle](https://www.kaggle.com/c/titanic) é um dos clássicos problemas para quem está iniciando suas atividades no mundo da Ciência de Dados.\n",
    "\n",
    "O Titanic foi pensado para ser o navio mais luxuoso e mais seguro de sua época, gerando lendas que era supostamente \"inafundável\". No entanto, com cerca de 2200 passageiros a bordo, o Titanic colidiu com um iceberg matando aproximadamente 1500 pessoas, sendo um dos maiores desastres marítimos de toda a história. Contudo, a seguinte pergunta pode ficar no ar: será que a sobrevivência de alguns passageiros se deu por pura sorte ou alguns passageiros realmente tinham mais chances de sobreviver do que outros? "
   ]
  },
  {
   "cell_type": "markdown",
   "metadata": {},
   "source": [
    "![Titanic, ABC](Imagens/Titanic/Titanic.jpg)"
   ]
  },
  {
   "cell_type": "markdown",
   "metadata": {},
   "source": [
    "Dito isto, o objetivo deste estudo é tirar alguns insights em cima desse conjunto de dados (que por sua vez são dados reais) e, em seguida, treinar um modelo de Machine Learning capaz de prever se um passageiro sobreviveria/sobreviveu ou não a esse desastre."
   ]
  },
  {
   "cell_type": "markdown",
   "metadata": {},
   "source": [
    " "
   ]
  },
  {
   "cell_type": "markdown",
   "metadata": {},
   "source": [
    "# Entendimento dos Dados <a class=\"anchor\" id=\"entendimento_dados\"></a>"
   ]
  },
  {
   "cell_type": "markdown",
   "metadata": {},
   "source": [
    "#### Importando as bibliotecas necessárias"
   ]
  },
  {
   "cell_type": "code",
   "execution_count": 120,
   "metadata": {},
   "outputs": [],
   "source": [
    "import pandas as pd\n",
    "import numpy as np\n",
    "\n",
    "import matplotlib.pyplot as plt\n",
    "import seaborn as sns\n",
    "\n",
    "from sklearn.tree import DecisionTreeClassifier\n",
    "from sklearn.svm import SVC\n",
    "from sklearn.neighbors import KNeighborsClassifier\n",
    "from sklearn.ensemble import GradientBoostingClassifier, AdaBoostClassifier\n",
    "\n",
    "%matplotlib inline\n",
    "sns.set_style(\"dark\")\n",
    "\n",
    "import warnings\n",
    "warnings.filterwarnings('ignore')"
   ]
  },
  {
   "cell_type": "markdown",
   "metadata": {},
   "source": [
    " "
   ]
  },
  {
   "cell_type": "markdown",
   "metadata": {},
   "source": [
    "#### Obtenção dos dados"
   ]
  },
  {
   "cell_type": "markdown",
   "metadata": {},
   "source": [
    "Os dados foram disponibilizados no [Kaggle](https://www.kaggle.com/c/titanic). Esta é uma competição muito famosa no Kaggle e muitos a consideram como sendo um \"Hello World\" para quem está dando os primeiros passos no mundo da Ciência de Dados.\n",
    "\n",
    "Nesta competição são disponibilizados três arquivos: 'train.csv', 'test.csv' e 'gender_submission.csv'. O primeiro arquivo contém os dados que serão utilizados no treinamento no modelo, o segundo arquivo contém os dados que serão utilizados na etapa de teste do modelo e o último contém um modelo de como deve ser o arquivo enviado ao Kaggle."
   ]
  },
  {
   "cell_type": "code",
   "execution_count": 121,
   "metadata": {},
   "outputs": [
    {
     "data": {
      "text/html": [
       "<div>\n",
       "<style scoped>\n",
       "    .dataframe tbody tr th:only-of-type {\n",
       "        vertical-align: middle;\n",
       "    }\n",
       "\n",
       "    .dataframe tbody tr th {\n",
       "        vertical-align: top;\n",
       "    }\n",
       "\n",
       "    .dataframe thead th {\n",
       "        text-align: right;\n",
       "    }\n",
       "</style>\n",
       "<table border=\"1\" class=\"dataframe\">\n",
       "  <thead>\n",
       "    <tr style=\"text-align: right;\">\n",
       "      <th></th>\n",
       "      <th>PassengerId</th>\n",
       "      <th>Survived</th>\n",
       "      <th>Pclass</th>\n",
       "      <th>Name</th>\n",
       "      <th>Sex</th>\n",
       "      <th>Age</th>\n",
       "      <th>SibSp</th>\n",
       "      <th>Parch</th>\n",
       "      <th>Ticket</th>\n",
       "      <th>Fare</th>\n",
       "      <th>Cabin</th>\n",
       "      <th>Embarked</th>\n",
       "    </tr>\n",
       "  </thead>\n",
       "  <tbody>\n",
       "    <tr>\n",
       "      <th>0</th>\n",
       "      <td>1</td>\n",
       "      <td>0</td>\n",
       "      <td>3</td>\n",
       "      <td>Braund, Mr. Owen Harris</td>\n",
       "      <td>male</td>\n",
       "      <td>22.0</td>\n",
       "      <td>1</td>\n",
       "      <td>0</td>\n",
       "      <td>A/5 21171</td>\n",
       "      <td>7.2500</td>\n",
       "      <td>NaN</td>\n",
       "      <td>S</td>\n",
       "    </tr>\n",
       "    <tr>\n",
       "      <th>1</th>\n",
       "      <td>2</td>\n",
       "      <td>1</td>\n",
       "      <td>1</td>\n",
       "      <td>Cumings, Mrs. John Bradley (Florence Briggs Th...</td>\n",
       "      <td>female</td>\n",
       "      <td>38.0</td>\n",
       "      <td>1</td>\n",
       "      <td>0</td>\n",
       "      <td>PC 17599</td>\n",
       "      <td>71.2833</td>\n",
       "      <td>C85</td>\n",
       "      <td>C</td>\n",
       "    </tr>\n",
       "    <tr>\n",
       "      <th>2</th>\n",
       "      <td>3</td>\n",
       "      <td>1</td>\n",
       "      <td>3</td>\n",
       "      <td>Heikkinen, Miss. Laina</td>\n",
       "      <td>female</td>\n",
       "      <td>26.0</td>\n",
       "      <td>0</td>\n",
       "      <td>0</td>\n",
       "      <td>STON/O2. 3101282</td>\n",
       "      <td>7.9250</td>\n",
       "      <td>NaN</td>\n",
       "      <td>S</td>\n",
       "    </tr>\n",
       "    <tr>\n",
       "      <th>3</th>\n",
       "      <td>4</td>\n",
       "      <td>1</td>\n",
       "      <td>1</td>\n",
       "      <td>Futrelle, Mrs. Jacques Heath (Lily May Peel)</td>\n",
       "      <td>female</td>\n",
       "      <td>35.0</td>\n",
       "      <td>1</td>\n",
       "      <td>0</td>\n",
       "      <td>113803</td>\n",
       "      <td>53.1000</td>\n",
       "      <td>C123</td>\n",
       "      <td>S</td>\n",
       "    </tr>\n",
       "    <tr>\n",
       "      <th>4</th>\n",
       "      <td>5</td>\n",
       "      <td>0</td>\n",
       "      <td>3</td>\n",
       "      <td>Allen, Mr. William Henry</td>\n",
       "      <td>male</td>\n",
       "      <td>35.0</td>\n",
       "      <td>0</td>\n",
       "      <td>0</td>\n",
       "      <td>373450</td>\n",
       "      <td>8.0500</td>\n",
       "      <td>NaN</td>\n",
       "      <td>S</td>\n",
       "    </tr>\n",
       "  </tbody>\n",
       "</table>\n",
       "</div>"
      ],
      "text/plain": [
       "   PassengerId  Survived  Pclass  \\\n",
       "0            1         0       3   \n",
       "1            2         1       1   \n",
       "2            3         1       3   \n",
       "3            4         1       1   \n",
       "4            5         0       3   \n",
       "\n",
       "                                                Name     Sex   Age  SibSp  \\\n",
       "0                            Braund, Mr. Owen Harris    male  22.0      1   \n",
       "1  Cumings, Mrs. John Bradley (Florence Briggs Th...  female  38.0      1   \n",
       "2                             Heikkinen, Miss. Laina  female  26.0      0   \n",
       "3       Futrelle, Mrs. Jacques Heath (Lily May Peel)  female  35.0      1   \n",
       "4                           Allen, Mr. William Henry    male  35.0      0   \n",
       "\n",
       "   Parch            Ticket     Fare Cabin Embarked  \n",
       "0      0         A/5 21171   7.2500   NaN        S  \n",
       "1      0          PC 17599  71.2833   C85        C  \n",
       "2      0  STON/O2. 3101282   7.9250   NaN        S  \n",
       "3      0            113803  53.1000  C123        S  \n",
       "4      0            373450   8.0500   NaN        S  "
      ]
     },
     "execution_count": 121,
     "metadata": {},
     "output_type": "execute_result"
    }
   ],
   "source": [
    "training_set = pd.read_csv('train.csv')\n",
    "test_set = pd.read_csv('test.csv')\n",
    "\n",
    "training_set.head()"
   ]
  },
  {
   "cell_type": "code",
   "execution_count": 122,
   "metadata": {},
   "outputs": [
    {
     "name": "stdout",
     "output_type": "stream",
     "text": [
      "Número de Atributos:\t 12\n",
      "Número de registros no conjunto de treino:\t 891\n",
      "Número de registros no conjunto de teste:\t 418\n"
     ]
    }
   ],
   "source": [
    "print(\"Número de Atributos:\\t\", training_set.shape[1])\n",
    "print(\"Número de registros no conjunto de treino:\\t\", training_set.shape[0])\n",
    "print(\"Número de registros no conjunto de teste:\\t\", test_set.shape[0])"
   ]
  },
  {
   "cell_type": "markdown",
   "metadata": {},
   "source": [
    "#### Dicionário de Dados"
   ]
  },
  {
   "cell_type": "markdown",
   "metadata": {},
   "source": [
    "* **PassengerId:** ID do passageiro\n",
    "* **Survived:** Indica se o passageiro sobreviveu ou não\n",
    "    * 0 = Não sobreviveu\n",
    "    * 1 = Sobreviveu\n",
    "* **Pclass:** Classe ocupada pelo passageiro\n",
    "    * 1 = Primeira classe\n",
    "    * 2 = Segunda classe\n",
    "    * 3 = Terceira classe\n",
    "* **Name:** Nome do passageiro\n",
    "* **Sex:** Sexo do passageiro\n",
    "* **Age:** Idade do passageiro\n",
    "* **SibSp:** Número de irmãos/cônjuges a bordo do Titanic\n",
    "* **Parch:** Número de pais/filhos a bordo do Titanic\n",
    "* **Ticket:** Número do bilhete\n",
    "* **Fare:** Valor do bilhete\n",
    "* **Cabin:** Número da cabine do passageiro\n",
    "* **Embarked:** Local de embarque do passageiro\n",
    "    * C = Cherbourg\n",
    "    * Q = Queenstown\n",
    "    * S = Southampton"
   ]
  },
  {
   "cell_type": "markdown",
   "metadata": {},
   "source": [
    "#### Tipo dos Atributos"
   ]
  },
  {
   "cell_type": "code",
   "execution_count": 123,
   "metadata": {},
   "outputs": [
    {
     "data": {
      "text/plain": [
       "PassengerId      int64\n",
       "Survived         int64\n",
       "Pclass           int64\n",
       "Name            object\n",
       "Sex             object\n",
       "Age            float64\n",
       "SibSp            int64\n",
       "Parch            int64\n",
       "Ticket          object\n",
       "Fare           float64\n",
       "Cabin           object\n",
       "Embarked        object\n",
       "dtype: object"
      ]
     },
     "execution_count": 123,
     "metadata": {},
     "output_type": "execute_result"
    }
   ],
   "source": [
    "training_set.dtypes"
   ]
  },
  {
   "cell_type": "markdown",
   "metadata": {},
   "source": [
    "* **Numérico Inteiro**\n",
    "    * PassengerId\n",
    "    * Survived\n",
    "    * Pclass\n",
    "    * SibSp\n",
    "    * Parch\n",
    "* **Numérico Real**\n",
    "    * Age\n",
    "    * Fare\n",
    "* **Categóricos**\n",
    "    * Name\n",
    "    * Sex\n",
    "    * Ticket\n",
    "    * Cabin\n",
    "    * Embarked"
   ]
  },
  {
   "cell_type": "markdown",
   "metadata": {},
   "source": [
    "#### Exploração dos Dados <a class=\"anchor\" id=\"exploração_dados\"></a>"
   ]
  },
  {
   "cell_type": "markdown",
   "metadata": {},
   "source": [
    "Após verificado o que cada atributo representa e o seu tipo, é importante verificar se os dados apresentam algum tipo de valor faltante, a existência de outliers, distribuição estatística dos atributos numéricos, etc.\n",
    "\n",
    "Abaixo os dois conjunto de dados (treino e teste) serão combinados em apenas um dataset, já que qualquer modificação realizada em cima do conjunto de treinamento também deverá ser realizada no conjunto de teste. Dessa forma, economizamos linhas de código. E ao final, basta separar novamente os conjuntos entre treino e teste."
   ]
  },
  {
   "cell_type": "code",
   "execution_count": 124,
   "metadata": {},
   "outputs": [
    {
     "data": {
      "text/plain": [
       "(1309, 13)"
      ]
     },
     "execution_count": 124,
     "metadata": {},
     "output_type": "execute_result"
    }
   ],
   "source": [
    "# Dimensão dos dados\n",
    "dados = pd.concat([training_set, test_set]).reset_index()\n",
    "dados.shape"
   ]
  },
  {
   "cell_type": "markdown",
   "metadata": {},
   "source": [
    " "
   ]
  },
  {
   "cell_type": "code",
   "execution_count": 125,
   "metadata": {},
   "outputs": [
    {
     "data": {
      "text/html": [
       "<div>\n",
       "<style scoped>\n",
       "    .dataframe tbody tr th:only-of-type {\n",
       "        vertical-align: middle;\n",
       "    }\n",
       "\n",
       "    .dataframe tbody tr th {\n",
       "        vertical-align: top;\n",
       "    }\n",
       "\n",
       "    .dataframe thead th {\n",
       "        text-align: right;\n",
       "    }\n",
       "</style>\n",
       "<table border=\"1\" class=\"dataframe\">\n",
       "  <thead>\n",
       "    <tr style=\"text-align: right;\">\n",
       "      <th></th>\n",
       "      <th>index</th>\n",
       "      <th>Age</th>\n",
       "      <th>Fare</th>\n",
       "      <th>Parch</th>\n",
       "      <th>PassengerId</th>\n",
       "      <th>Pclass</th>\n",
       "      <th>SibSp</th>\n",
       "      <th>Survived</th>\n",
       "    </tr>\n",
       "  </thead>\n",
       "  <tbody>\n",
       "    <tr>\n",
       "      <th>count</th>\n",
       "      <td>1309.000000</td>\n",
       "      <td>1046.000000</td>\n",
       "      <td>1308.000000</td>\n",
       "      <td>1309.000000</td>\n",
       "      <td>1309.000000</td>\n",
       "      <td>1309.000000</td>\n",
       "      <td>1309.000000</td>\n",
       "      <td>891.000000</td>\n",
       "    </tr>\n",
       "    <tr>\n",
       "      <th>mean</th>\n",
       "      <td>369.478992</td>\n",
       "      <td>29.881138</td>\n",
       "      <td>33.295479</td>\n",
       "      <td>0.385027</td>\n",
       "      <td>655.000000</td>\n",
       "      <td>2.294882</td>\n",
       "      <td>0.498854</td>\n",
       "      <td>0.383838</td>\n",
       "    </tr>\n",
       "    <tr>\n",
       "      <th>std</th>\n",
       "      <td>248.767105</td>\n",
       "      <td>14.413493</td>\n",
       "      <td>51.758668</td>\n",
       "      <td>0.865560</td>\n",
       "      <td>378.020061</td>\n",
       "      <td>0.837836</td>\n",
       "      <td>1.041658</td>\n",
       "      <td>0.486592</td>\n",
       "    </tr>\n",
       "    <tr>\n",
       "      <th>min</th>\n",
       "      <td>0.000000</td>\n",
       "      <td>0.170000</td>\n",
       "      <td>0.000000</td>\n",
       "      <td>0.000000</td>\n",
       "      <td>1.000000</td>\n",
       "      <td>1.000000</td>\n",
       "      <td>0.000000</td>\n",
       "      <td>0.000000</td>\n",
       "    </tr>\n",
       "    <tr>\n",
       "      <th>25%</th>\n",
       "      <td>163.000000</td>\n",
       "      <td>21.000000</td>\n",
       "      <td>7.895800</td>\n",
       "      <td>0.000000</td>\n",
       "      <td>328.000000</td>\n",
       "      <td>2.000000</td>\n",
       "      <td>0.000000</td>\n",
       "      <td>0.000000</td>\n",
       "    </tr>\n",
       "    <tr>\n",
       "      <th>50%</th>\n",
       "      <td>327.000000</td>\n",
       "      <td>28.000000</td>\n",
       "      <td>14.454200</td>\n",
       "      <td>0.000000</td>\n",
       "      <td>655.000000</td>\n",
       "      <td>3.000000</td>\n",
       "      <td>0.000000</td>\n",
       "      <td>0.000000</td>\n",
       "    </tr>\n",
       "    <tr>\n",
       "      <th>75%</th>\n",
       "      <td>563.000000</td>\n",
       "      <td>39.000000</td>\n",
       "      <td>31.275000</td>\n",
       "      <td>0.000000</td>\n",
       "      <td>982.000000</td>\n",
       "      <td>3.000000</td>\n",
       "      <td>1.000000</td>\n",
       "      <td>1.000000</td>\n",
       "    </tr>\n",
       "    <tr>\n",
       "      <th>max</th>\n",
       "      <td>890.000000</td>\n",
       "      <td>80.000000</td>\n",
       "      <td>512.329200</td>\n",
       "      <td>9.000000</td>\n",
       "      <td>1309.000000</td>\n",
       "      <td>3.000000</td>\n",
       "      <td>8.000000</td>\n",
       "      <td>1.000000</td>\n",
       "    </tr>\n",
       "  </tbody>\n",
       "</table>\n",
       "</div>"
      ],
      "text/plain": [
       "             index          Age         Fare        Parch  PassengerId  \\\n",
       "count  1309.000000  1046.000000  1308.000000  1309.000000  1309.000000   \n",
       "mean    369.478992    29.881138    33.295479     0.385027   655.000000   \n",
       "std     248.767105    14.413493    51.758668     0.865560   378.020061   \n",
       "min       0.000000     0.170000     0.000000     0.000000     1.000000   \n",
       "25%     163.000000    21.000000     7.895800     0.000000   328.000000   \n",
       "50%     327.000000    28.000000    14.454200     0.000000   655.000000   \n",
       "75%     563.000000    39.000000    31.275000     0.000000   982.000000   \n",
       "max     890.000000    80.000000   512.329200     9.000000  1309.000000   \n",
       "\n",
       "            Pclass        SibSp    Survived  \n",
       "count  1309.000000  1309.000000  891.000000  \n",
       "mean      2.294882     0.498854    0.383838  \n",
       "std       0.837836     1.041658    0.486592  \n",
       "min       1.000000     0.000000    0.000000  \n",
       "25%       2.000000     0.000000    0.000000  \n",
       "50%       3.000000     0.000000    0.000000  \n",
       "75%       3.000000     1.000000    1.000000  \n",
       "max       3.000000     8.000000    1.000000  "
      ]
     },
     "execution_count": 125,
     "metadata": {},
     "output_type": "execute_result"
    }
   ],
   "source": [
    "# Distribuição estatística dos dados\n",
    "dados.describe()"
   ]
  },
  {
   "cell_type": "markdown",
   "metadata": {},
   "source": [
    "Abaixo podemos ver que a maior parte dos dados faltantes estão nos atributos **Age**, **Cabin** e **Survived**.\n",
    "\n",
    "Os 418 valores faltantes no atributo **Survived** já era de se esperar, já que esses valores pertencem ao conjunto de teste, os quais iremos prever baseado em algum algoritmo de machine learning.\n",
    "\n",
    "Quanto ao atributo **Cabin**, esses valores faltantes não prejudicam em nada a análise que será feita aqui, já que esse atributo não agrega informação útil.\n",
    "\n",
    "Quanto ao atributo **Age**, esta informação sim pode ser útil de alguma forma. Assim sendo, na etapa de preparação dos dados esses valores faltantes deverão ser preenchidos, por exemplo pela média, moda ou mediana deste atributo.\n",
    "\n",
    "E por fim, os 3 valores faltantes nos atributos **Embarked** e **Fare** serão preenchidos com a moda (valor mais frequente) em cada um desses atributos."
   ]
  },
  {
   "cell_type": "code",
   "execution_count": 126,
   "metadata": {},
   "outputs": [
    {
     "name": "stdout",
     "output_type": "stream",
     "text": [
      "index             0\n",
      "Age             263\n",
      "Cabin          1014\n",
      "Embarked          2\n",
      "Fare              1\n",
      "Name              0\n",
      "Parch             0\n",
      "PassengerId       0\n",
      "Pclass            0\n",
      "Sex               0\n",
      "SibSp             0\n",
      "Survived        418\n",
      "Ticket            0\n",
      "dtype: int64\n"
     ]
    }
   ],
   "source": [
    "print(dados.isnull().sum())"
   ]
  },
  {
   "cell_type": "markdown",
   "metadata": {},
   "source": [
    " "
   ]
  },
  {
   "cell_type": "markdown",
   "metadata": {},
   "source": [
    "Da Matriz de Correlação abaixo podemos ver a correlação entre os atributos. Os atributos mais correlacionados (negativamente) são: Fare e Pclass. Esta correlação faz todo sentido, já que os passageiros da primeira classe (valor 1 no atributo Pclass) pagaram uma passagem mais cara que os passageiros da terceira classe (valor 3 no atributo Pclass)."
   ]
  },
  {
   "cell_type": "code",
   "execution_count": 127,
   "metadata": {},
   "outputs": [
    {
     "data": {
      "image/png": "[encoded data removed]",
      "text/plain": [
       "<Figure size 1440x432 with 2 Axes>"
      ]
     },
     "metadata": {},
     "output_type": "display_data"
    }
   ],
   "source": [
    "corr = dados.corr()\n",
    "\n",
    "plt.subplots(figsize=(20,6))\n",
    "ax = sns.heatmap(corr, vmin=-1, vmax=1, center=0, cmap=sns.diverging_palette(20, 220, n=200), square=True, annot=True)\n",
    "\n",
    "ax.set_title('Matriz de Correlação', fontweight='bold', fontsize=17)\n",
    "ax.set_xticklabels(ax.get_xticklabels(), fontweight='bold')\n",
    "ax.set_yticklabels(ax.get_yticklabels(), rotation=0, fontweight='bold')\n",
    "plt.show()"
   ]
  },
  {
   "cell_type": "markdown",
   "metadata": {},
   "source": [
    " "
   ]
  },
  {
   "cell_type": "markdown",
   "metadata": {},
   "source": [
    "Do gráfico abaixo podemos ver que havia aproximadamente o dobro de pessoas do sexo masculino se comparado com a quantidade de pessoas do sexo feminino."
   ]
  },
  {
   "cell_type": "code",
   "execution_count": 128,
   "metadata": {
    "scrolled": true
   },
   "outputs": [
    {
     "data": {
      "image/png": "[encoded data removed]",
      "text/plain": [
       "<Figure size 576x360 with 1 Axes>"
      ]
     },
     "metadata": {},
     "output_type": "display_data"
    }
   ],
   "source": [
    "info = dados['Sex'].value_counts()\n",
    "\n",
    "plt.figure(figsize=(8,5))\n",
    "plt.bar(['Masculino', 'Feminino'], info)\n",
    "plt.title('Quantidade de passageiros de cada sexo', fontweight='bold')\n",
    "plt.xlabel('Sexo', fontweight='bold')\n",
    "plt.ylabel('Quantidade', fontweight='bold')\n",
    "plt.show()"
   ]
  },
  {
   "cell_type": "markdown",
   "metadata": {},
   "source": [
    " "
   ]
  },
  {
   "cell_type": "markdown",
   "metadata": {},
   "source": [
    "Do gráfico abaixo podemos ver que a grande maioria dos passageiros embarcou na cidade de Southampton."
   ]
  },
  {
   "cell_type": "code",
   "execution_count": 129,
   "metadata": {},
   "outputs": [
    {
     "data": {
      "image/png": "[encoded data removed]",
      "text/plain": [
       "<Figure size 576x360 with 1 Axes>"
      ]
     },
     "metadata": {},
     "output_type": "display_data"
    }
   ],
   "source": [
    "info = dados['Embarked'].value_counts()\n",
    "\n",
    "plt.figure(figsize=(8,5))\n",
    "plt.bar(['Southampton', 'Cherbourg', 'Queenstown'], info)\n",
    "plt.title('Quantidade de embarque por local', fontweight='bold')\n",
    "plt.xlabel('Local', fontweight='bold')\n",
    "plt.ylabel('Quantidade', fontweight='bold')\n",
    "plt.show()"
   ]
  },
  {
   "cell_type": "markdown",
   "metadata": {},
   "source": [
    " "
   ]
  },
  {
   "cell_type": "markdown",
   "metadata": {},
   "source": [
    "No gráfico abaixo é possível ver que mais da metade dos passageiros a bordo do Titanic pertenciam à 3ª classe."
   ]
  },
  {
   "cell_type": "code",
   "execution_count": 130,
   "metadata": {},
   "outputs": [
    {
     "data": {
      "image/png": "[encoded data removed]",
      "text/plain": [
       "<Figure size 576x360 with 1 Axes>"
      ]
     },
     "metadata": {},
     "output_type": "display_data"
    }
   ],
   "source": [
    "info = dados['Pclass'].value_counts().sort_index()\n",
    "info = 100 * info / sum(info)\n",
    "\n",
    "plt.figure(figsize=(8,5))\n",
    "plt.bar(info.index.astype(str), info)\n",
    "plt.xticks([0,1,2], ('1ª', '2ª', '3ª'))\n",
    "plt.title('Percentual de passageiros por classe', fontweight='bold')\n",
    "plt.xlabel('Classe', fontweight='bold')\n",
    "plt.ylabel('Percentual', fontweight='bold')\n",
    "plt.show()"
   ]
  },
  {
   "cell_type": "markdown",
   "metadata": {},
   "source": [
    " "
   ]
  },
  {
   "cell_type": "markdown",
   "metadata": {},
   "source": [
    "Na média, os passageiros da 1ª classe tem mais idade, enquanto que os passageiros da 3ª classe são mais jovens."
   ]
  },
  {
   "cell_type": "code",
   "execution_count": 131,
   "metadata": {},
   "outputs": [
    {
     "data": {
      "image/png": "[encoded data removed]",
      "text/plain": [
       "<Figure size 576x360 with 1 Axes>"
      ]
     },
     "metadata": {},
     "output_type": "display_data"
    }
   ],
   "source": [
    "# Média de idade em cada classe, desconsiderando os valores faltantes\n",
    "info = dados[dados['Age'].notnull()]\n",
    "info = dados[['Age', 'Pclass']].groupby('Pclass').mean()\n",
    "    \n",
    "plt.figure(figsize=(8,5))\n",
    "plt.bar(info.index.astype(str), info['Age'])\n",
    "plt.xticks([0,1,2], ('1ª', '2ª', '3ª'))\n",
    "plt.title('Idade média dos passageiros em cada classe', fontweight='bold')\n",
    "plt.xlabel('Classe', fontweight='bold')\n",
    "plt.ylabel('Quantidade', fontweight='bold')\n",
    "plt.show()"
   ]
  },
  {
   "cell_type": "markdown",
   "metadata": {},
   "source": [
    " "
   ]
  },
  {
   "cell_type": "markdown",
   "metadata": {},
   "source": [
    "Como já era de se esperar, considerando a quantidade de passageiros em cada classe, a 1ª classe foi a que apresentou um maior percentual de passageiros sobreviventes, seguida pela 2ª classe e, por último, a 3ª classe."
   ]
  },
  {
   "cell_type": "code",
   "execution_count": 132,
   "metadata": {},
   "outputs": [
    {
     "data": {
      "image/png": "[encoded data removed]",
      "text/plain": [
       "<Figure size 576x360 with 1 Axes>"
      ]
     },
     "metadata": {},
     "output_type": "display_data"
    }
   ],
   "source": [
    "# Percentual de passageiros que sobreviveram em cada uma das classes\n",
    "info = dados[['Survived', 'Pclass']].groupby('Pclass').mean()\n",
    "\n",
    "plt.figure(figsize=(8,5))\n",
    "plt.bar(info.index.astype(str), info['Survived'] * 100)\n",
    "plt.xticks([0,1,2], ('1ª', '2ª', '3ª'))\n",
    "plt.title('Percentual de passageiros sobreviventes em cada classe', fontweight='bold')\n",
    "plt.xlabel('Classe', fontweight='bold')\n",
    "plt.ylabel('Percentual', fontweight='bold')\n",
    "plt.show()"
   ]
  },
  {
   "cell_type": "markdown",
   "metadata": {},
   "source": [
    " "
   ]
  },
  {
   "cell_type": "markdown",
   "metadata": {},
   "source": [
    "Como podemos ver no gráfico abaixo, dentre os sobreviventes em cada uma das três classes, a maior parte deles são do sexo feminino."
   ]
  },
  {
   "cell_type": "code",
   "execution_count": 133,
   "metadata": {},
   "outputs": [
    {
     "data": {
      "image/png": "[encoded data removed]",
      "text/plain": [
       "<Figure size 576x360 with 1 Axes>"
      ]
     },
     "metadata": {},
     "output_type": "display_data"
    }
   ],
   "source": [
    "# Sexo dos sobreviventes em cada classe\n",
    "info = dados[dados['Survived'] == 1][['Sex', 'Pclass']]\n",
    "b1 = info[info['Sex'] == 'female'].groupby('Pclass').count()\n",
    "b2 = info[info['Sex'] == 'male'].groupby('Pclass').count()\n",
    "\n",
    "barHeight = 0.4\n",
    "    \n",
    "r = np.arange(len(b1.index))\n",
    "r1 = [x + barHeight/2 + 1 for x in r]\n",
    "r2 = [x - barHeight/2 + 1 for x in r]\n",
    "\n",
    "plt.figure(figsize=(8,5))\n",
    "barra1 = plt.bar(r1, b1['Sex'], color='#7f6d5f', width=barHeight, edgecolor='white', label='Sexo Feminino')\n",
    "barra2 = plt.bar(r2, b2['Sex'], color='#B19900', width=barHeight, edgecolor='white', label='Sexo Masculino')\n",
    "\n",
    "plt.xticks([1,2,3], ('1ª', '2ª', '3ª'))\n",
    "plt.title('Quantidade de sobreviventes de cada sexo', fontweight='bold')\n",
    "plt.xlabel('Classe', fontweight='bold')\n",
    "plt.ylabel('Quantidade', fontweight='bold')\n",
    "\n",
    "plt.legend()\n",
    "plt.show()"
   ]
  },
  {
   "cell_type": "markdown",
   "metadata": {},
   "source": [
    " "
   ]
  },
  {
   "cell_type": "markdown",
   "metadata": {},
   "source": [
    "Do gráfico abaixo podemos notar que dentre os sobreviventes que embarcaram na cidade de Queenstown, quase todos os passageiros são da 3º classe."
   ]
  },
  {
   "cell_type": "code",
   "execution_count": 134,
   "metadata": {},
   "outputs": [
    {
     "data": {
      "image/png": "[encoded data removed]",
      "text/plain": [
       "<Figure size 576x360 with 1 Axes>"
      ]
     },
     "metadata": {},
     "output_type": "display_data"
    }
   ],
   "source": [
    "# Local de embarque dos sobreviventes de cada classe\n",
    "info = dados[dados['Survived'] == 1][['Pclass', 'Embarked']]\n",
    "\n",
    "b1 = info[info['Embarked'] == 'S'].groupby('Pclass').count()\n",
    "b2 = info[info['Embarked'] == 'C'].groupby('Pclass').count()\n",
    "b3 = info[info['Embarked'] == 'Q'].groupby('Pclass').count()\n",
    "\n",
    "barHeight = 0.3\n",
    "r = np.arange(len(b1.index))\n",
    "r1 = [x - barHeight for x in r]\n",
    "r2 = [x for x in r]\n",
    "r3 = [x + barHeight for x in r]\n",
    "\n",
    "plt.figure(figsize=(8,5))\n",
    "barra1 = plt.bar(r1, b1['Embarked'], color='#7f6d5f', width=barHeight, edgecolor='white', label='Southampton')\n",
    "barra2 = plt.bar(r2, b2['Embarked'], color='#B19900', width=barHeight, edgecolor='white', label='Cherbourg')\n",
    "barra3 = plt.bar(r3, b3['Embarked'], color='#0000FF', width=barHeight, edgecolor='white', label='Queenstown')\n",
    "\n",
    "plt.xticks([0,1,2], ('1ª', '2ª', '3ª'))\n",
    "plt.title('Local de embarque dos sobreviventes em cada classe', fontweight='bold')\n",
    "plt.xlabel('Classe', fontweight='bold')\n",
    "plt.ylabel('Quantidade', fontweight='bold')\n",
    "\n",
    "plt.legend()\n",
    "plt.show()"
   ]
  },
  {
   "cell_type": "markdown",
   "metadata": {},
   "source": [
    " "
   ]
  },
  {
   "cell_type": "markdown",
   "metadata": {},
   "source": [
    "No gráfico abaixo podemos ver que, como esperado, o valor da passagem da 1ª classe é muito mais que das demais classes. Mas o que chama a atenção é que, na média, o valor das passagens da 2ª classe e 3ª classe são bem próximos."
   ]
  },
  {
   "cell_type": "code",
   "execution_count": 135,
   "metadata": {},
   "outputs": [
    {
     "data": {
      "image/png": "[encoded data removed]",
      "text/plain": [
       "<Figure size 504x360 with 1 Axes>"
      ]
     },
     "metadata": {},
     "output_type": "display_data"
    }
   ],
   "source": [
    "# Média do valor pago pelo bilhete em cada classe\n",
    "info = dados[['Fare', 'Pclass']].groupby('Pclass').mean()\n",
    "\n",
    "plt.figure(figsize=(7,5))\n",
    "plt.bar(info.index, info['Fare'])\n",
    "plt.title('Média do preço da passagem em cada classe', fontweight='bold')\n",
    "plt.xlabel('Classe', fontweight='bold')\n",
    "plt.ylabel('Preço', fontweight='bold')\n",
    "plt.xticks([1,2,3], ('1ª', '2ª', '3ª'))\n",
    "plt.show()"
   ]
  },
  {
   "cell_type": "markdown",
   "metadata": {},
   "source": [
    " "
   ]
  },
  {
   "cell_type": "markdown",
   "metadata": {},
   "source": [
    "# Preparação dos Dados <a class=\"anchor\" id=\"preparação_dados\"></a>"
   ]
  },
  {
   "cell_type": "markdown",
   "metadata": {},
   "source": [
    "#### Selecionando os atributos"
   ]
  },
  {
   "cell_type": "markdown",
   "metadata": {},
   "source": [
    "O primeiro passo antes de iniciarmos a construção de um modelo de machine learning é a seleção dos melhores atributos, ou seja, aqueles que contenham alguma informação relevante que possa ser utilizada pelo nosso modelo. No caso do dataset do Titanic, os atributos que utilizaremos no treinamento do nosso modelo serão: Age, Embarked, Fare, Parch, Pclass, Sex, SibSp e Survived. Logo, todos os outros podem ser removidos do nosso dataset, com exceção da coluna PassengerId, já que esta será utilizada para gerar o arquivo com resultados a ser submetido no [Kaggle](https://www.kaggle.com)."
   ]
  },
  {
   "cell_type": "code",
   "execution_count": 136,
   "metadata": {},
   "outputs": [
    {
     "data": {
      "text/html": [
       "<div>\n",
       "<style scoped>\n",
       "    .dataframe tbody tr th:only-of-type {\n",
       "        vertical-align: middle;\n",
       "    }\n",
       "\n",
       "    .dataframe tbody tr th {\n",
       "        vertical-align: top;\n",
       "    }\n",
       "\n",
       "    .dataframe thead th {\n",
       "        text-align: right;\n",
       "    }\n",
       "</style>\n",
       "<table border=\"1\" class=\"dataframe\">\n",
       "  <thead>\n",
       "    <tr style=\"text-align: right;\">\n",
       "      <th></th>\n",
       "      <th>Age</th>\n",
       "      <th>Embarked</th>\n",
       "      <th>Fare</th>\n",
       "      <th>Parch</th>\n",
       "      <th>PassengerId</th>\n",
       "      <th>Pclass</th>\n",
       "      <th>Sex</th>\n",
       "      <th>SibSp</th>\n",
       "      <th>Survived</th>\n",
       "    </tr>\n",
       "  </thead>\n",
       "  <tbody>\n",
       "    <tr>\n",
       "      <th>0</th>\n",
       "      <td>22.0</td>\n",
       "      <td>S</td>\n",
       "      <td>7.2500</td>\n",
       "      <td>0</td>\n",
       "      <td>1</td>\n",
       "      <td>3</td>\n",
       "      <td>male</td>\n",
       "      <td>1</td>\n",
       "      <td>0.0</td>\n",
       "    </tr>\n",
       "    <tr>\n",
       "      <th>1</th>\n",
       "      <td>38.0</td>\n",
       "      <td>C</td>\n",
       "      <td>71.2833</td>\n",
       "      <td>0</td>\n",
       "      <td>2</td>\n",
       "      <td>1</td>\n",
       "      <td>female</td>\n",
       "      <td>1</td>\n",
       "      <td>1.0</td>\n",
       "    </tr>\n",
       "    <tr>\n",
       "      <th>2</th>\n",
       "      <td>26.0</td>\n",
       "      <td>S</td>\n",
       "      <td>7.9250</td>\n",
       "      <td>0</td>\n",
       "      <td>3</td>\n",
       "      <td>3</td>\n",
       "      <td>female</td>\n",
       "      <td>0</td>\n",
       "      <td>1.0</td>\n",
       "    </tr>\n",
       "    <tr>\n",
       "      <th>3</th>\n",
       "      <td>35.0</td>\n",
       "      <td>S</td>\n",
       "      <td>53.1000</td>\n",
       "      <td>0</td>\n",
       "      <td>4</td>\n",
       "      <td>1</td>\n",
       "      <td>female</td>\n",
       "      <td>1</td>\n",
       "      <td>1.0</td>\n",
       "    </tr>\n",
       "    <tr>\n",
       "      <th>4</th>\n",
       "      <td>35.0</td>\n",
       "      <td>S</td>\n",
       "      <td>8.0500</td>\n",
       "      <td>0</td>\n",
       "      <td>5</td>\n",
       "      <td>3</td>\n",
       "      <td>male</td>\n",
       "      <td>0</td>\n",
       "      <td>0.0</td>\n",
       "    </tr>\n",
       "  </tbody>\n",
       "</table>\n",
       "</div>"
      ],
      "text/plain": [
       "    Age Embarked     Fare  Parch  PassengerId  Pclass     Sex  SibSp  Survived\n",
       "0  22.0        S   7.2500      0            1       3    male      1       0.0\n",
       "1  38.0        C  71.2833      0            2       1  female      1       1.0\n",
       "2  26.0        S   7.9250      0            3       3  female      0       1.0\n",
       "3  35.0        S  53.1000      0            4       1  female      1       1.0\n",
       "4  35.0        S   8.0500      0            5       3    male      0       0.0"
      ]
     },
     "execution_count": 136,
     "metadata": {},
     "output_type": "execute_result"
    }
   ],
   "source": [
    "dados_modelo = dados.drop(['index', 'Cabin', 'Name', 'Ticket'], axis=1)\n",
    "dados_modelo.head()"
   ]
  },
  {
   "cell_type": "markdown",
   "metadata": {},
   "source": [
    " "
   ]
  },
  {
   "cell_type": "markdown",
   "metadata": {},
   "source": [
    "#### Valores faltantes"
   ]
  },
  {
   "cell_type": "markdown",
   "metadata": {},
   "source": [
    "Como mencionado na etapa de [exploração dos dados](#exploração_dados), os atributos que possuem algum valor faltante são: Age, Embarked e Fare. Para fazer o preenchimento desses valores faltantes nos atributos Embarked e Fare, utilizaremos o valor mais frequente encontrado nesses atributos, conhecido como 'moda'. Quanto ao atributo Age, estes campos serão preenchidos com a média das idades desse atributo."
   ]
  },
  {
   "cell_type": "code",
   "execution_count": 137,
   "metadata": {},
   "outputs": [
    {
     "name": "stdout",
     "output_type": "stream",
     "text": [
      "Age              0\n",
      "Embarked         0\n",
      "Fare             0\n",
      "Parch            0\n",
      "PassengerId      0\n",
      "Pclass           0\n",
      "Sex              0\n",
      "SibSp            0\n",
      "Survived       418\n",
      "dtype: int64\n"
     ]
    }
   ],
   "source": [
    "dados_modelo['Embarked'] = dados_modelo['Embarked'].fillna(dados_modelo['Embarked'].mode()[0])\n",
    "dados_modelo['Fare'] = dados_modelo['Fare'].fillna(dados_modelo['Fare'].mode()[0])\n",
    "dados_modelo['Age'] = dados_modelo['Age'].fillna(dados_modelo['Age'].mean())\n",
    "\n",
    "print(dados_modelo.isnull().sum())"
   ]
  },
  {
   "cell_type": "markdown",
   "metadata": {},
   "source": [
    " "
   ]
  },
  {
   "cell_type": "markdown",
   "metadata": {},
   "source": [
    "#### Valores não numéricos"
   ]
  },
  {
   "cell_type": "markdown",
   "metadata": {},
   "source": [
    "Como os modelos que construiremos a seguir apenas trabalham com dados numéricos, será necessário converter os atributos Embarked e Sex para um formato numérico, de modo que sejam aceitos pelos modelos. O trecho de código a seguir cria uma nova coluna para cada valor único dos atributos Embarked e Sex."
   ]
  },
  {
   "cell_type": "code",
   "execution_count": 138,
   "metadata": {
    "scrolled": true
   },
   "outputs": [
    {
     "data": {
      "text/html": [
       "<div>\n",
       "<style scoped>\n",
       "    .dataframe tbody tr th:only-of-type {\n",
       "        vertical-align: middle;\n",
       "    }\n",
       "\n",
       "    .dataframe tbody tr th {\n",
       "        vertical-align: top;\n",
       "    }\n",
       "\n",
       "    .dataframe thead th {\n",
       "        text-align: right;\n",
       "    }\n",
       "</style>\n",
       "<table border=\"1\" class=\"dataframe\">\n",
       "  <thead>\n",
       "    <tr style=\"text-align: right;\">\n",
       "      <th></th>\n",
       "      <th>Age</th>\n",
       "      <th>Fare</th>\n",
       "      <th>Parch</th>\n",
       "      <th>PassengerId</th>\n",
       "      <th>Pclass</th>\n",
       "      <th>SibSp</th>\n",
       "      <th>Survived</th>\n",
       "      <th>Embarked_C</th>\n",
       "      <th>Embarked_Q</th>\n",
       "      <th>Embarked_S</th>\n",
       "      <th>Sex_female</th>\n",
       "      <th>Sex_male</th>\n",
       "    </tr>\n",
       "  </thead>\n",
       "  <tbody>\n",
       "    <tr>\n",
       "      <th>0</th>\n",
       "      <td>22.0</td>\n",
       "      <td>7.2500</td>\n",
       "      <td>0</td>\n",
       "      <td>1</td>\n",
       "      <td>3</td>\n",
       "      <td>1</td>\n",
       "      <td>0.0</td>\n",
       "      <td>0</td>\n",
       "      <td>0</td>\n",
       "      <td>1</td>\n",
       "      <td>0</td>\n",
       "      <td>1</td>\n",
       "    </tr>\n",
       "    <tr>\n",
       "      <th>1</th>\n",
       "      <td>38.0</td>\n",
       "      <td>71.2833</td>\n",
       "      <td>0</td>\n",
       "      <td>2</td>\n",
       "      <td>1</td>\n",
       "      <td>1</td>\n",
       "      <td>1.0</td>\n",
       "      <td>1</td>\n",
       "      <td>0</td>\n",
       "      <td>0</td>\n",
       "      <td>1</td>\n",
       "      <td>0</td>\n",
       "    </tr>\n",
       "    <tr>\n",
       "      <th>2</th>\n",
       "      <td>26.0</td>\n",
       "      <td>7.9250</td>\n",
       "      <td>0</td>\n",
       "      <td>3</td>\n",
       "      <td>3</td>\n",
       "      <td>0</td>\n",
       "      <td>1.0</td>\n",
       "      <td>0</td>\n",
       "      <td>0</td>\n",
       "      <td>1</td>\n",
       "      <td>1</td>\n",
       "      <td>0</td>\n",
       "    </tr>\n",
       "    <tr>\n",
       "      <th>3</th>\n",
       "      <td>35.0</td>\n",
       "      <td>53.1000</td>\n",
       "      <td>0</td>\n",
       "      <td>4</td>\n",
       "      <td>1</td>\n",
       "      <td>1</td>\n",
       "      <td>1.0</td>\n",
       "      <td>0</td>\n",
       "      <td>0</td>\n",
       "      <td>1</td>\n",
       "      <td>1</td>\n",
       "      <td>0</td>\n",
       "    </tr>\n",
       "    <tr>\n",
       "      <th>4</th>\n",
       "      <td>35.0</td>\n",
       "      <td>8.0500</td>\n",
       "      <td>0</td>\n",
       "      <td>5</td>\n",
       "      <td>3</td>\n",
       "      <td>0</td>\n",
       "      <td>0.0</td>\n",
       "      <td>0</td>\n",
       "      <td>0</td>\n",
       "      <td>1</td>\n",
       "      <td>0</td>\n",
       "      <td>1</td>\n",
       "    </tr>\n",
       "  </tbody>\n",
       "</table>\n",
       "</div>"
      ],
      "text/plain": [
       "    Age     Fare  Parch  PassengerId  Pclass  SibSp  Survived  Embarked_C  \\\n",
       "0  22.0   7.2500      0            1       3      1       0.0           0   \n",
       "1  38.0  71.2833      0            2       1      1       1.0           1   \n",
       "2  26.0   7.9250      0            3       3      0       1.0           0   \n",
       "3  35.0  53.1000      0            4       1      1       1.0           0   \n",
       "4  35.0   8.0500      0            5       3      0       0.0           0   \n",
       "\n",
       "   Embarked_Q  Embarked_S  Sex_female  Sex_male  \n",
       "0           0           1           0         1  \n",
       "1           0           0           1         0  \n",
       "2           0           1           1         0  \n",
       "3           0           1           1         0  \n",
       "4           0           1           0         1  "
      ]
     },
     "execution_count": 138,
     "metadata": {},
     "output_type": "execute_result"
    }
   ],
   "source": [
    "aux = pd.get_dummies(dados_modelo['Embarked'], prefix='Embarked')\n",
    "dados_modelo = pd.concat([dados_modelo, aux], axis=1)\n",
    "\n",
    "aux = pd.get_dummies(dados_modelo['Sex'], prefix='Sex')\n",
    "dados_modelo = pd.concat([dados_modelo, aux], axis=1)\n",
    "\n",
    "dados_modelo = dados_modelo.drop(['Embarked', 'Sex'], axis=1)\n",
    "dados_modelo.head()\n"
   ]
  },
  {
   "cell_type": "markdown",
   "metadata": {},
   "source": [
    " "
   ]
  },
  {
   "cell_type": "markdown",
   "metadata": {},
   "source": [
    "#### Separando o conjunto de treino e o conjunto de teste"
   ]
  },
  {
   "cell_type": "markdown",
   "metadata": {},
   "source": [
    "Em seguida, é necessário fazer a separação do conjunto de treino e do conjunto de teste, já que havíamos combinado os dois conjuntos para fazer a exploração dos dados. Como a combinação dos dois conjuntos acrescentou o conjunto de teste ao final do conjunto de treino e o conjunto de teste tem 418 registros, utilizaremos essa informação para fazer a separação dos conjuntos."
   ]
  },
  {
   "cell_type": "code",
   "execution_count": 139,
   "metadata": {
    "scrolled": true
   },
   "outputs": [],
   "source": [
    "tamanho_conjunto = dados_modelo.shape[0]\n",
    "tamanho_conjunto_teste = 418\n",
    "\n",
    "dados_modelo_treino = dados_modelo.iloc[:tamanho_conjunto - tamanho_conjunto_teste]\n",
    "dados_modelo_teste = dados_modelo.iloc[tamanho_conjunto - tamanho_conjunto_teste:]"
   ]
  },
  {
   "cell_type": "markdown",
   "metadata": {},
   "source": [
    "Em seguida, removi a coluna PassengerId dos dois conjuntos de dados, salvando a coluna PassengerId pertencente ao conjunto de teste, já que esta fará parte da resposta final que será submetida no [Kaggle](https://www.kaggle.com)."
   ]
  },
  {
   "cell_type": "code",
   "execution_count": 140,
   "metadata": {},
   "outputs": [],
   "source": [
    "submissao = dados_modelo_teste[['PassengerId']]\n",
    "\n",
    "dados_modelo_treino = dados_modelo_treino.drop(['PassengerId'], axis=1)\n",
    "dados_modelo_teste = dados_modelo_teste.drop(['PassengerId'], axis=1)"
   ]
  },
  {
   "cell_type": "markdown",
   "metadata": {},
   "source": [
    " "
   ]
  },
  {
   "cell_type": "markdown",
   "metadata": {},
   "source": [
    "# Modelagem <a class=\"anchor\" id=\"modelagem\"></a>"
   ]
  },
  {
   "cell_type": "markdown",
   "metadata": {},
   "source": [
    "Finalizada a etapa de preparação dos dados, agora iremos construir alguns modelos de Machine Learning a fim de verificar a sua performance em prever se um determinado passageiro sobreviveu ou não ao naufrágio do Titanic."
   ]
  },
  {
   "cell_type": "markdown",
   "metadata": {},
   "source": [
    "Antes de construir algum modelo, é necessário separar do conjunto de treinamento o atributo Survived (atributo que queremos prever)."
   ]
  },
  {
   "cell_type": "code",
   "execution_count": 141,
   "metadata": {},
   "outputs": [],
   "source": [
    "x_train = dados_modelo_treino.loc[:, dados_modelo_treino.columns != 'Survived']\n",
    "y_train = dados_modelo_treino[['Survived']]\n",
    "\n",
    "x_teste = dados_modelo_teste.loc[:, dados_modelo_teste.columns != 'Survived']"
   ]
  },
  {
   "cell_type": "markdown",
   "metadata": {},
   "source": [
    "Abaixo foi implementada duas funções. A primeira exibira o score atingido pelo modelo construído e a segunda função exportará um arquivo csv com as previsões do modelo em cima do conjunto de testes."
   ]
  },
  {
   "cell_type": "code",
   "execution_count": 142,
   "metadata": {},
   "outputs": [],
   "source": [
    "# Calcula o score do modelo\n",
    "def score_modelo(modelo, x_train, y_train):\n",
    "    \n",
    "    acc = round(modelo.score(x_train, y_train) * 100, 2)\n",
    "    print(\"Acurácia do modelo: {}%\".format(acc))\n",
    "\n",
    "# Exporta um arquivo csv com as previsões\n",
    "def exportar_resultado(modelo, x_teste, submissao):\n",
    "    \n",
    "    y_pred = modelo.predict(x_teste)\n",
    "    submissao['Survived'] = y_pred.astype(int)\n",
    "    \n",
    "    submissao.to_csv('./submissao.csv', index=False)"
   ]
  },
  {
   "cell_type": "markdown",
   "metadata": {},
   "source": [
    " "
   ]
  },
  {
   "cell_type": "markdown",
   "metadata": {},
   "source": [
    "### Decision Tree"
   ]
  },
  {
   "cell_type": "code",
   "execution_count": 143,
   "metadata": {},
   "outputs": [
    {
     "name": "stdout",
     "output_type": "stream",
     "text": [
      "Acurácia do modelo: 84.18%\n"
     ]
    }
   ],
   "source": [
    "modelo = DecisionTreeClassifier(max_depth=5)\n",
    "modelo.fit(x_train, y_train)\n",
    "\n",
    "score_modelo(modelo, x_train, y_train)"
   ]
  },
  {
   "cell_type": "markdown",
   "metadata": {},
   "source": [
    "Como visto acima, nosso primeiro modelo treinado teve uma performance de 84.18% em cima do conjunto de treinamento. Um resultado bom para um primeiro modelo.\n",
    "\n",
    "Para a construção deste modelo, foi selecionado como 5 a profundidade máxima da árvore de decisão. Em um primeiro teste realizado, não foi selecionado limite algum de profundidade da árvore e obtive uma acurácia de 98%. Mas isto é um problema porque esse resultado mostra que é como se a árvore estivesse 'decorando' o conjunto de treinamento, conceito conhecido como Overfitting. Se eu utilizasse esse modelo para submeter o resultado em cima do conjunto de testes, muito provavelmente eu obteria um resultado bem inferior aos 98%. "
   ]
  },
  {
   "cell_type": "code",
   "execution_count": 144,
   "metadata": {},
   "outputs": [],
   "source": [
    "exportar_resultado(modelo, x_teste, submissao)"
   ]
  },
  {
   "cell_type": "markdown",
   "metadata": {},
   "source": [
    "Feita a previsão em cima do conjunto de testes, podemos fazer a submissão ao [Kaggle](https://www.kaggle.com) e verificar a acurácia do nosso modelo em cima de um conjunto de dados que ele não conhece e verificar seu desempenho.\n",
    "\n",
    "O trecho de código acima exporta um arquivo csv a partir das previsões do modelo."
   ]
  },
  {
   "cell_type": "markdown",
   "metadata": {},
   "source": [
    "Na imagem abaixo podemos ver o resultado da nossa primeira submissão no [Kaggle](https://www.kaggle.com). O score atingido foi de 76.07%, um resultado bom para um primeiro modelo."
   ]
  },
  {
   "cell_type": "markdown",
   "metadata": {},
   "source": [
    "![](Imagens/Titanic/Titanic-Modelo1.PNG)"
   ]
  },
  {
   "cell_type": "markdown",
   "metadata": {},
   "source": [
    "### SVC - Suport Vector Classifier"
   ]
  },
  {
   "cell_type": "code",
   "execution_count": 145,
   "metadata": {},
   "outputs": [
    {
     "name": "stdout",
     "output_type": "stream",
     "text": [
      "Acurácia do modelo: 89.11%\n"
     ]
    }
   ],
   "source": [
    "modelo = SVC()\n",
    "modelo.fit(x_train, y_train)\n",
    "\n",
    "score_modelo(modelo, x_train, y_train)"
   ]
  },
  {
   "cell_type": "markdown",
   "metadata": {},
   "source": [
    "Utilizando SVC (Suport Vector Classifier), obtivemos uma acurácia melhor que o modelo utilizando um Árvore de Decisão. Agora executaremos o modelo em cima do conjunto de testes, exportaremos no formato csv e faremos a submissão no [Kaggle](https://www.kaggle.com) pra ver a sua acurácia."
   ]
  },
  {
   "cell_type": "code",
   "execution_count": 146,
   "metadata": {},
   "outputs": [],
   "source": [
    "exportar_resultado(modelo, x_teste, submissao)"
   ]
  },
  {
   "cell_type": "markdown",
   "metadata": {},
   "source": [
    "Porém, como podemos ver na imagem abaixo, o resultado foi bem inferior se comparado com o modelo baseado em Árvore de Decisão, apesar de ter apresentado uma acurácia maior em cima do conjunto de treinamento."
   ]
  },
  {
   "cell_type": "markdown",
   "metadata": {},
   "source": [
    "![](Imagens/Titanic/Titanic-Modelo2.PNG)"
   ]
  },
  {
   "cell_type": "markdown",
   "metadata": {},
   "source": [
    "### KNN - K Nearest Neighbors"
   ]
  },
  {
   "cell_type": "code",
   "execution_count": 147,
   "metadata": {},
   "outputs": [
    {
     "name": "stdout",
     "output_type": "stream",
     "text": [
      "Acurácia do modelo: 83.73%\n"
     ]
    }
   ],
   "source": [
    "modelo = KNeighborsClassifier(3)\n",
    "modelo.fit(x_train, y_train)\n",
    "\n",
    "score_modelo(modelo, x_train, y_train)"
   ]
  },
  {
   "cell_type": "markdown",
   "metadata": {},
   "source": [
    "Assim como no modelo baseado em Árvore de Decisão, o KNN apresentou uma acurácia de aproximadamente 84%. Vejamos seu resultado agora em cima do conjunto de testes."
   ]
  },
  {
   "cell_type": "code",
   "execution_count": 148,
   "metadata": {},
   "outputs": [],
   "source": [
    "exportar_resultado(modelo, x_teste, submissao)"
   ]
  },
  {
   "cell_type": "markdown",
   "metadata": {},
   "source": [
    "Como visto na iamgem abaixo, o KNN apresentou um resultado tão ruim quanto o resultado obtido através do SVC."
   ]
  },
  {
   "cell_type": "markdown",
   "metadata": {},
   "source": [
    "![](Imagens/Titanic/Titanic-Modelo3.PNG)"
   ]
  },
  {
   "cell_type": "markdown",
   "metadata": {},
   "source": [
    "## AdaBoost"
   ]
  },
  {
   "cell_type": "code",
   "execution_count": 149,
   "metadata": {},
   "outputs": [
    {
     "name": "stdout",
     "output_type": "stream",
     "text": [
      "Acurácia do modelo: 83.39%\n"
     ]
    }
   ],
   "source": [
    "modelo = AdaBoostClassifier()\n",
    "modelo.fit(x_train, y_train)\n",
    "\n",
    "score_modelo(modelo, x_train, y_train)"
   ]
  },
  {
   "cell_type": "code",
   "execution_count": 150,
   "metadata": {},
   "outputs": [],
   "source": [
    "exportar_resultado(modelo, x_teste, submissao)"
   ]
  },
  {
   "cell_type": "markdown",
   "metadata": {},
   "source": [
    "Na imagem abaixo podemos ver que o resultado obtido em cima do conjunto de treinamento foi de 75.12%, valor bem próximo ao atingido pela Árvore de Decisão."
   ]
  },
  {
   "cell_type": "markdown",
   "metadata": {},
   "source": [
    "![](Imagens/Titanic/Titanic-Modelo4.PNG)"
   ]
  },
  {
   "cell_type": "markdown",
   "metadata": {},
   "source": [
    "### Gradient Boosting"
   ]
  },
  {
   "cell_type": "code",
   "execution_count": 151,
   "metadata": {},
   "outputs": [
    {
     "name": "stdout",
     "output_type": "stream",
     "text": [
      "Acurácia do modelo: 89.23%\n"
     ]
    }
   ],
   "source": [
    "modelo = GradientBoostingClassifier()\n",
    "modelo.fit(x_train, y_train)\n",
    "\n",
    "score_modelo(modelo, x_train, y_train)"
   ]
  },
  {
   "cell_type": "markdown",
   "metadata": {},
   "source": [
    "Dentre os modelos treinados até agora, este foi o que apresentou o melhor resultado, atingindo uma acurácia de 89,23%. Mas será que este valor se manterá após a execução do modelo em cima do conjunto de teste?"
   ]
  },
  {
   "cell_type": "code",
   "execution_count": 152,
   "metadata": {},
   "outputs": [],
   "source": [
    "exportar_resultado(modelo, x_teste, submissao)"
   ]
  },
  {
   "cell_type": "markdown",
   "metadata": {},
   "source": [
    "Após a submissão no [Kaggle](https://www.kaggle.com), vemos que obtivemos uma melhora de aproximadamente 2% se comparado com o modelo treinado usando uma Árvore de Decisão, atingindo um score de 78,47%."
   ]
  },
  {
   "cell_type": "markdown",
   "metadata": {},
   "source": [
    "![](Imagens/Titanic/Titanic-Modelo5.PNG)"
   ]
  },
  {
   "cell_type": "markdown",
   "metadata": {},
   "source": [
    " "
   ]
  },
  {
   "cell_type": "markdown",
   "metadata": {},
   "source": [
    "# Avaliação <a class=\"anchor\" id=\"avaliação\"></a>"
   ]
  },
  {
   "cell_type": "markdown",
   "metadata": {},
   "source": [
    "Os resultados obtidos através dos cinco modelos treinados apresentaram valores de acurácia entre 83,39% e 89,23% em cima do conjunto de treinamento. Já que em cima do conjunto de testes, a acurácia dos modelos variou entre 61,72% e 78.47%. Isto demonstra a ocorrência do overfitting, onde em alguns casos está mais evidente (modelo treinado utilizando o SVC) e em outros casos menos (modelo treinado utilizando a Árvore de Decisão). Mas este resultado é aceitável, visto que na etapa de [preparação dos dados](#preparação_dados) o trabalho realizado não foi muito aprofundado. Além disso, uma escolha mais cuidadosa dos parâmetros dos modelos podem acarretar em uma melhor acurácia e redução do overfitting, já que praticamente todos os parâmetros utilizados foram os parâmetros defaults."
   ]
  },
  {
   "cell_type": "markdown",
   "metadata": {},
   "source": [
    " "
   ]
  },
  {
   "cell_type": "markdown",
   "metadata": {},
   "source": [
    "# Conclusão <a class=\"anchor\" id=\"conclusão\"></a>"
   ]
  },
  {
   "cell_type": "markdown",
   "metadata": {},
   "source": [
    "Através destes dados foi possível comprovar que de fato, como relatado no filme, não haviam botes salva-vidas suficiente para todos os passageiros a bordo do Titanic. Um ponto que podemos destacar também é que mesmo havendo o dobro de pessoas do sexo masculino no navio, a quantidade de sobreviventes do sexo feminino foi pelo menos duas vezes maior que a quantidade de sobreviventes do sexo masculino."
   ]
  },
  {
   "cell_type": "markdown",
   "metadata": {},
   "source": [
    "![](Imagens/Titanic/Titanic-Conclusão.png)"
   ]
  },
  {
   "cell_type": "markdown",
   "metadata": {},
   "source": [
    "Na cena acima, Rose diz para a mãe dela que metade das pessoas do navio iriam morrer. Na cena seguinte seu noivo (Cal) diz que a metade \"superior\" não, se referindo às pessoas da primeira classe. Através da análise feita na [exploração dos dados](#exploração_dados), pudemos constatar que isso realmente aconteceu, já que cerca de 60% dos passageiros da primeira classe sobreviveram, enquanto que apenas aproximadamente 20% dos passageiros da terceira classe sobreviveram."
   ]
  }
 ],
 "metadata": {
  "kernelspec": {
   "display_name": "Python 3",
   "language": "python",
   "name": "python3"
  },
  "language_info": {
   "codemirror_mode": {
    "name": "ipython",
    "version": 3
   },
   "file_extension": ".py",
   "mimetype": "text/x-python",
   "name": "python",
   "nbconvert_exporter": "python",
   "pygments_lexer": "ipython3",
   "version": "3.7.3"
  }
 },
 "nbformat": 4,
 "nbformat_minor": 2
}
